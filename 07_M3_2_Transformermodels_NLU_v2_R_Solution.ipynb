{
  "nbformat": 4,
  "nbformat_minor": 0,
  "metadata": {
    "colab": {
      "provenance": [],
      "authorship_tag": "ABX9TyOGDj5i0yVY47nFV3by7vAi",
      "include_colab_link": true
    },
    "kernelspec": {
      "name": "ir",
      "display_name": "R"
    },
    "language_info": {
      "name": "R"
    }
  },
  "cells": [
    {
      "cell_type": "markdown",
      "metadata": {
        "id": "view-in-github",
        "colab_type": "text"
      },
      "source": [
        "<a href=\"https://colab.research.google.com/github/HamidBekamiri/Econometrics-II/blob/main/07_M3_2_Transformermodels_NLU_v2_R_Solution.ipynb\" target=\"_parent\"><img src=\"https://colab.research.google.com/assets/colab-badge.svg\" alt=\"Open In Colab\"/></a>"
      ]
    },
    {
      "cell_type": "markdown",
      "source": [
        "The main questions that we aim to answer in this lecture are:\n",
        "\n",
        "1. What are the main challenges of RNNs and LSTMs?\n",
        "2. Attention Mechanisms\n",
        "      - How do attention mechanisms solve the challenges associated with RNNs and LSTMs?\n",
        "      - What is the fundamental idea behind the attention mechanism?\n",
        "      - How does the attention mechanism function?\n",
        "3. What is the Transformer model architecture, and how does it differ from encoder-decoder models?\n",
        "4. What is text embedding?\n",
        "5. How can one train a Transformer model to compute embeddings?\n",
        "6. What are the differences between word embeddings and sentence embeddings?\n",
        "\n",
        "\n"
      ],
      "metadata": {
        "id": "zhv4dDMiskQG"
      }
    },
    {
      "cell_type": "markdown",
      "source": [
        "## How Do Attention Mechanisms Solve RNN and LSTM Challenges?"
      ],
      "metadata": {
        "id": "6nttKJeer9RA"
      }
    },
    {
      "cell_type": "markdown",
      "source": [
        "![](https://miro.medium.com/v2/resize:fit:1280/1*w2OJ4jfjxmlcqu6k4BdgrA.gif)"
      ],
      "metadata": {
        "id": "yfWvHgfm1BrK"
      }
    },
    {
      "cell_type": "markdown",
      "source": [
        "| RNN/LSTM Problems                          | How Attention Helps                                   |\n",
        "|--------------------------------------------|------------------------------------------------------|\n",
        "| Hard to learn from long steps back         | Looks directly at important past information         |\n",
        "| Training can be unstable                   | Uses special techniques to stay stable (gradient clipping or other techniques)               |\n",
        "| Slow with long sentences                   | Works on whole sentences at once, so it's faster     |\n",
        "| Struggles with very distant info           | Can easily use info from anywhere in the sentence    |\n",
        "| Can't always use all relevant info         | Chooses which info to use at each step               |\n",
        "| Can be heavy on memory                     | Lighter on memory, no need to remember every step    |\n",
        "| Hard to see why it made a decision         | Can show which words affected the decision           |\n"
      ],
      "metadata": {
        "id": "Mc4o6qWq_3Mt"
      }
    },
    {
      "cell_type": "markdown",
      "source": [
        "# What is the main idea behind attention mechanism?"
      ],
      "metadata": {
        "id": "1AoPol1L4TUG"
      }
    },
    {
      "cell_type": "markdown",
      "source": [
        "The core concept of the attention mechanism is to focus selectively on relevant past information. Let's explore how attention addresses the challenge of polysemy in NLP.\n",
        "\n",
        "Word embeddings face a significant challenge with polysemous words—those with multiple meanings. For example, a word like \"bank\" would be assigned the same vector in traditional embeddings regardless of whether it's used to refer to a financial institution or the side of a river. In order to understand attention, let’s look at two sentences:\n"
      ],
      "metadata": {
        "id": "RJ2pwIks4dPL"
      }
    },
    {
      "cell_type": "markdown",
      "source": [
        "\n",
        "\n",
        "    Sentence 1: The bank of the river.\n",
        "    Sentence 2: Money in the bank.\n"
      ],
      "metadata": {
        "id": "ZdqjpY9N4maB"
      }
    },
    {
      "cell_type": "markdown",
      "source": [
        "![](https://raw.githubusercontent.com/aaubs/ds-master/main/data/Images/attention_mechanism.png)"
      ],
      "metadata": {
        "id": "UBF61fq7JmxS"
      }
    },
    {
      "cell_type": "markdown",
      "source": [
        " To address this limitation, the concept of attention, specifically self-attention, was introduced in the influential paper \"Attention is All You Need\". The attention mechanism effectively distinguishes the usage of words based on context, thereby transforming standard word embeddings into contextualized embeddings that vary according to the sentence they appear in."
      ],
      "metadata": {
        "id": "csh4wBiqLpmt"
      }
    },
    {
      "cell_type": "markdown",
      "source": [
        "# How does attention mechanism work?"
      ],
      "metadata": {
        "id": "R0n0WM88zS8l"
      }
    },
    {
      "cell_type": "markdown",
      "source": [
        "The attntion mechanism contains three steps inclusing:\n",
        "- Step 1: Similarity - Calculate dot products for Q and K (attention scores)\n",
        "- Step 2: Weights - Apply softmax to attention scores\n",
        "- Step 3: Contextualized vector - Multiply attention weights by V and sum to get output vectors\n",
        "\n"
      ],
      "metadata": {
        "id": "r7KAGbZ3zZql"
      }
    },
    {
      "cell_type": "code",
      "source": [
        "# Installing needed packages for the project\n",
        "\n",
        "install.packages(c(\n",
        "  \"keras3\", \"tensorflow\"))"
      ],
      "metadata": {
        "colab": {
          "base_uri": "https://localhost:8080/"
        },
        "id": "tPNBI4hFLY6G",
        "outputId": "e334db13-1079-4184-9cf5-e984cb2e60ba"
      },
      "execution_count": 1,
      "outputs": [
        {
          "output_type": "stream",
          "name": "stderr",
          "text": [
            "Installing packages into ‘/usr/local/lib/R/site-library’\n",
            "(as ‘lib’ is unspecified)\n",
            "\n",
            "also installing the dependencies ‘RcppTOML’, ‘here’, ‘png’, ‘reticulate’, ‘tfruns’, ‘zeallot’, ‘config’, ‘tfautograph’\n",
            "\n",
            "\n"
          ]
        }
      ]
    },
    {
      "cell_type": "code",
      "source": [
        "# Load necessary libraries\n",
        "library(keras3)\n",
        "library(ggplot2)\n",
        "# Provided word embeddings\n",
        "embeddings <- list(\n",
        "  \"the\" = c(0.1, 0.1),\n",
        "  \"bank\" = c(0.5, 0.5),\n",
        "  \"of\" = c(0.2, 0.1),\n",
        "  \"river\" = c(0.5, 0.7),\n",
        "  \"Money\" = c(0.5, 0.45),\n",
        "  \"in\" = c(0.1, 0.2)\n",
        ")\n",
        "\n",
        "# Extract the coordinates for 2D plotting\n",
        "x_2d_adj <- sapply(embeddings, function(e) e[1])\n",
        "y_2d_adj <- sapply(embeddings, function(e) e[2])\n",
        "words_2d_adj <- names(embeddings)\n",
        "\n",
        "# Create a data frame for plotting\n",
        "data <- data.frame(\n",
        "  x = x_2d_adj,\n",
        "  y = y_2d_adj,\n",
        "  word = words_2d_adj\n",
        ")\n",
        "\n",
        "# Create a 2D plot\n",
        "ggplot(data, aes(x = x, y = y)) +\n",
        "  geom_point() +\n",
        "  geom_text(aes(label = word), vjust = -1) +\n",
        "  labs(\n",
        "    x = \"Dimension 1\",\n",
        "    y = \"Dimension 2\",\n",
        "    title = \"2D plot of word embeddings\"\n",
        "  ) +\n",
        "  coord_fixed()\n"
      ],
      "metadata": {
        "id": "mLiefIrZj9XM",
        "colab": {
          "base_uri": "https://localhost:8080/",
          "height": 437
        },
        "outputId": "b87958a7-3f84-4383-fae7-2fc866f44dc1"
      },
      "execution_count": 5,
      "outputs": [
        {
          "output_type": "display_data",
          "data": {
            "text/plain": [
              "plot without title"
            ],
            "image/png": "[encoded data removed]"
          },
          "metadata": {
            "image/png": {
              "width": 420,
              "height": 420
            }
          }
        }
      ]
    },
    {
      "cell_type": "code",
      "source": [
        "# Sentence 1\n",
        "sentence_1 <- c(\"the\", \"bank\", \"of\", \"the\", \"river\")\n",
        "\n",
        "# Initialize matrices for Q, K, V\n",
        "Q_1 <- do.call(rbind, lapply(sentence_1, function(word) embeddings[[word]]))\n",
        "K_1 <- do.call(rbind, lapply(sentence_1, function(word) embeddings[[word]]))\n",
        "V_1 <- do.call(rbind, lapply(sentence_1, function(word) embeddings[[word]]))\n",
        "\n",
        "# Step 1: Similarity - Calculate dot products for Q and K (attention scores)\n",
        "attention_scores_1 <- Q_1 %*% t(K_1)\n",
        "\n",
        "# Step 2: Weights - Apply softmax to attention scores\n",
        "softmax <- function(x) {\n",
        "  e_x <- exp(x - max(x))\n",
        "  e_x / sum(e_x)\n",
        "}\n",
        "\n",
        "attention_weights_1 <- t(apply(attention_scores_1, 1, softmax))\n",
        "\n",
        "# Step 3: Contextualized vector - Multiply attention weights by V and sum to get output vectors\n",
        "attention_output_1 <- attention_weights_1 %*% V_1"
      ],
      "metadata": {
        "id": "yjD0ebzglBB0"
      },
      "execution_count": 8,
      "outputs": []
    },
    {
      "cell_type": "code",
      "source": [
        "attention_scores_1"
      ],
      "metadata": {
        "colab": {
          "base_uri": "https://localhost:8080/",
          "height": 191
        },
        "id": "xFqW5G7smXcw",
        "outputId": "97cc0d14-e7b7-486f-b411-2bd8fb2b72e2"
      },
      "execution_count": 9,
      "outputs": [
        {
          "output_type": "display_data",
          "data": {
            "text/html": [
              "<table class=\"dataframe\">\n",
              "<caption>A matrix: 5 × 5 of type dbl</caption>\n",
              "<tbody>\n",
              "\t<tr><td>0.02</td><td>0.10</td><td>0.03</td><td>0.02</td><td>0.12</td></tr>\n",
              "\t<tr><td>0.10</td><td>0.50</td><td>0.15</td><td>0.10</td><td>0.60</td></tr>\n",
              "\t<tr><td>0.03</td><td>0.15</td><td>0.05</td><td>0.03</td><td>0.17</td></tr>\n",
              "\t<tr><td>0.02</td><td>0.10</td><td>0.03</td><td>0.02</td><td>0.12</td></tr>\n",
              "\t<tr><td>0.12</td><td>0.60</td><td>0.17</td><td>0.12</td><td>0.74</td></tr>\n",
              "</tbody>\n",
              "</table>\n"
            ],
            "text/markdown": "\nA matrix: 5 × 5 of type dbl\n\n| 0.02 | 0.10 | 0.03 | 0.02 | 0.12 |\n| 0.10 | 0.50 | 0.15 | 0.10 | 0.60 |\n| 0.03 | 0.15 | 0.05 | 0.03 | 0.17 |\n| 0.02 | 0.10 | 0.03 | 0.02 | 0.12 |\n| 0.12 | 0.60 | 0.17 | 0.12 | 0.74 |\n\n",
            "text/latex": "A matrix: 5 × 5 of type dbl\n\\begin{tabular}{lllll}\n\t 0.02 & 0.10 & 0.03 & 0.02 & 0.12\\\\\n\t 0.10 & 0.50 & 0.15 & 0.10 & 0.60\\\\\n\t 0.03 & 0.15 & 0.05 & 0.03 & 0.17\\\\\n\t 0.02 & 0.10 & 0.03 & 0.02 & 0.12\\\\\n\t 0.12 & 0.60 & 0.17 & 0.12 & 0.74\\\\\n\\end{tabular}\n",
            "text/plain": [
              "     [,1] [,2] [,3] [,4] [,5]\n",
              "[1,] 0.02 0.10 0.03 0.02 0.12\n",
              "[2,] 0.10 0.50 0.15 0.10 0.60\n",
              "[3,] 0.03 0.15 0.05 0.03 0.17\n",
              "[4,] 0.02 0.10 0.03 0.02 0.12\n",
              "[5,] 0.12 0.60 0.17 0.12 0.74"
            ]
          },
          "metadata": {}
        }
      ]
    },
    {
      "cell_type": "code",
      "source": [
        "attention_weights_1"
      ],
      "metadata": {
        "colab": {
          "base_uri": "https://localhost:8080/",
          "height": 191
        },
        "id": "X9mtOa6kpwby",
        "outputId": "94616f9d-610a-4d40-b2da-6f563cf0104d"
      },
      "execution_count": 10,
      "outputs": [
        {
          "output_type": "display_data",
          "data": {
            "text/html": [
              "<table class=\"dataframe\">\n",
              "<caption>A matrix: 5 × 5 of type dbl</caption>\n",
              "<tbody>\n",
              "\t<tr><td>0.1923629</td><td>0.2083842</td><td>0.1942962</td><td>0.1923629</td><td>0.2125939</td></tr>\n",
              "\t<tr><td>0.1615035</td><td>0.2409349</td><td>0.1697839</td><td>0.1615035</td><td>0.2662742</td></tr>\n",
              "\t<tr><td>0.1887515</td><td>0.2128167</td><td>0.1925645</td><td>0.1887515</td><td>0.2171159</td></tr>\n",
              "\t<tr><td>0.1923629</td><td>0.2083842</td><td>0.1942962</td><td>0.1923629</td><td>0.2125939</td></tr>\n",
              "\t<tr><td>0.1532268</td><td>0.2476259</td><td>0.1610829</td><td>0.1532268</td><td>0.2848376</td></tr>\n",
              "</tbody>\n",
              "</table>\n"
            ],
            "text/markdown": "\nA matrix: 5 × 5 of type dbl\n\n| 0.1923629 | 0.2083842 | 0.1942962 | 0.1923629 | 0.2125939 |\n| 0.1615035 | 0.2409349 | 0.1697839 | 0.1615035 | 0.2662742 |\n| 0.1887515 | 0.2128167 | 0.1925645 | 0.1887515 | 0.2171159 |\n| 0.1923629 | 0.2083842 | 0.1942962 | 0.1923629 | 0.2125939 |\n| 0.1532268 | 0.2476259 | 0.1610829 | 0.1532268 | 0.2848376 |\n\n",
            "text/latex": "A matrix: 5 × 5 of type dbl\n\\begin{tabular}{lllll}\n\t 0.1923629 & 0.2083842 & 0.1942962 & 0.1923629 & 0.2125939\\\\\n\t 0.1615035 & 0.2409349 & 0.1697839 & 0.1615035 & 0.2662742\\\\\n\t 0.1887515 & 0.2128167 & 0.1925645 & 0.1887515 & 0.2171159\\\\\n\t 0.1923629 & 0.2083842 & 0.1942962 & 0.1923629 & 0.2125939\\\\\n\t 0.1532268 & 0.2476259 & 0.1610829 & 0.1532268 & 0.2848376\\\\\n\\end{tabular}\n",
            "text/plain": [
              "     [,1]      [,2]      [,3]      [,4]      [,5]     \n",
              "[1,] 0.1923629 0.2083842 0.1942962 0.1923629 0.2125939\n",
              "[2,] 0.1615035 0.2409349 0.1697839 0.1615035 0.2662742\n",
              "[3,] 0.1887515 0.2128167 0.1925645 0.1887515 0.2171159\n",
              "[4,] 0.1923629 0.2083842 0.1942962 0.1923629 0.2125939\n",
              "[5,] 0.1532268 0.2476259 0.1610829 0.1532268 0.2848376"
            ]
          },
          "metadata": {}
        }
      ]
    },
    {
      "cell_type": "code",
      "source": [
        "attention_output_1"
      ],
      "metadata": {
        "colab": {
          "base_uri": "https://localhost:8080/",
          "height": 191
        },
        "id": "o18nKoEXpxRm",
        "outputId": "9a26c4b0-c616-448e-f2d8-3fcfc84e6199"
      },
      "execution_count": 11,
      "outputs": [
        {
          "output_type": "display_data",
          "data": {
            "text/html": [
              "<table class=\"dataframe\">\n",
              "<caption>A matrix: 5 × 2 of type dbl</caption>\n",
              "<tbody>\n",
              "\t<tr><td>0.2878208</td><td>0.3109100</td></tr>\n",
              "\t<tr><td>0.3198620</td><td>0.3561385</td></tr>\n",
              "\t<tr><td>0.2912295</td><td>0.3153962</td></tr>\n",
              "\t<tr><td>0.2878208</td><td>0.3109100</td></tr>\n",
              "\t<tr><td>0.3290937</td><td>0.3699529</td></tr>\n",
              "</tbody>\n",
              "</table>\n"
            ],
            "text/markdown": "\nA matrix: 5 × 2 of type dbl\n\n| 0.2878208 | 0.3109100 |\n| 0.3198620 | 0.3561385 |\n| 0.2912295 | 0.3153962 |\n| 0.2878208 | 0.3109100 |\n| 0.3290937 | 0.3699529 |\n\n",
            "text/latex": "A matrix: 5 × 2 of type dbl\n\\begin{tabular}{ll}\n\t 0.2878208 & 0.3109100\\\\\n\t 0.3198620 & 0.3561385\\\\\n\t 0.2912295 & 0.3153962\\\\\n\t 0.2878208 & 0.3109100\\\\\n\t 0.3290937 & 0.3699529\\\\\n\\end{tabular}\n",
            "text/plain": [
              "     [,1]      [,2]     \n",
              "[1,] 0.2878208 0.3109100\n",
              "[2,] 0.3198620 0.3561385\n",
              "[3,] 0.2912295 0.3153962\n",
              "[4,] 0.2878208 0.3109100\n",
              "[5,] 0.3290937 0.3699529"
            ]
          },
          "metadata": {}
        }
      ]
    },
    {
      "cell_type": "code",
      "source": [
        "# Plotting the original embeddings and the attention output for the first sentence \"the bank of the river\"\n",
        "\n",
        "# Extract the relevant embeddings for the first sentence\n",
        "sentence_embeddings_1 <- do.call(rbind, lapply(sentence_1, function(word) embeddings[[word]]))\n",
        "\n",
        "# Create a data frame for plotting original embeddings\n",
        "data_embeddings <- data.frame(\n",
        "  x = sentence_embeddings_1[, 1],\n",
        "  y = sentence_embeddings_1[, 2],\n",
        "  word = sentence_1\n",
        ")\n",
        "\n",
        "# Convert the attention output for the first sentence to a data frame for plotting\n",
        "data_attention_output <- data.frame(\n",
        "  x = attention_output_1[, 1],\n",
        "  y = attention_output_1[, 2],\n",
        "  word = sentence_1\n",
        ")\n",
        "\n",
        "# Set up the plot\n",
        "ggplot() +\n",
        "  geom_point(data = data_embeddings, aes(x = x, y = y, color = word), size = 3) +\n",
        "  geom_text(data = data_embeddings, aes(x = x, y = y, label = word), vjust = -1) +\n",
        "  labs(\n",
        "    title = 'Original Word Embeddings for \"the bank of the river\"',\n",
        "    x = 'Dimension 1',\n",
        "    y = 'Dimension 2'\n",
        "  ) +\n",
        "  theme_minimal() +\n",
        "  theme(legend.position = \"none\") +\n",
        "  coord_fixed()\n",
        "\n",
        "ggplot() +\n",
        "  geom_point(data = data_attention_output, aes(x = x, y = y, color = word), size = 3) +\n",
        "  geom_text(data = data_attention_output, aes(x = x, y = y, label = word), vjust = -1) +\n",
        "  labs(\n",
        "    title = 'Self-Attention Output Vectors for \"the bank of the river\"',\n",
        "    x = 'Dimension 1',\n",
        "    y = 'Dimension 2'\n",
        "  ) +\n",
        "  theme_minimal() +\n",
        "  theme(legend.position = \"none\") +\n",
        "  coord_fixed()\n"
      ],
      "metadata": {
        "colab": {
          "base_uri": "https://localhost:8080/",
          "height": 857
        },
        "id": "fYrqSnwHpkPI",
        "outputId": "b0f8a0a6-9e76-40b6-ea69-e25e1bda18bf"
      },
      "execution_count": 12,
      "outputs": [
        {
          "output_type": "display_data",
          "data": {
            "text/plain": [
              "plot without title"
            ],
            "image/png": "[encoded data removed]"
          },
          "metadata": {
            "image/png": {
              "width": 420,
              "height": 420
            }
          }
        },
        {
          "output_type": "display_data",
          "data": {
            "text/plain": [
              "plot without title"
            ],
            "image/png": "[encoded data removed]"
          },
          "metadata": {
            "image/png": {
              "width": 420,
              "height": 420
            }
          }
        }
      ]
    },
    {
      "cell_type": "code",
      "source": [
        "original_river <- embeddings[[\"river\"]]\n",
        "original_bank <- embeddings[[\"bank\"]]\n",
        "distance_original <- sqrt(sum((original_river - original_bank)^2))\n",
        "\n",
        "# Find the positions of \"river\" and \"bank\" in the first sentence\n",
        "river_position <- which(sentence_1 == \"river\")\n",
        "bank_position <- which(sentence_1 == \"bank\")\n",
        "\n",
        "# Calculate the Euclidean distance between \"river\" and \"bank\" in the output vectors for the first sentence\n",
        "output_river <- attention_output_1[river_position, ]\n",
        "output_bank <- attention_output_1[bank_position, ]\n",
        "distance_output <- sqrt(sum((output_river - output_bank)^2))\n",
        "\n",
        "# Print distances\n",
        "distance_original\n",
        "distance_output\n"
      ],
      "metadata": {
        "colab": {
          "base_uri": "https://localhost:8080/",
          "height": 52
        },
        "id": "QBlWx3eft7jJ",
        "outputId": "ee626dca-187a-4148-bd4c-934118a46b23"
      },
      "execution_count": 13,
      "outputs": [
        {
          "output_type": "display_data",
          "data": {
            "text/html": [
              "0.2"
            ],
            "text/markdown": "0.2",
            "text/latex": "0.2",
            "text/plain": [
              "[1] 0.2"
            ]
          },
          "metadata": {}
        },
        {
          "output_type": "display_data",
          "data": {
            "text/html": [
              "0.0166151144091907"
            ],
            "text/markdown": "0.0166151144091907",
            "text/latex": "0.0166151144091907",
            "text/plain": [
              "[1] 0.01661511"
            ]
          },
          "metadata": {}
        }
      ]
    },
    {
      "cell_type": "markdown",
      "source": [
        "# Exercise 1\n",
        "\n",
        "Calculate contextualized vectors for \"Money in the bank\" using the self-attention mechanism?\n",
        "\n"
      ],
      "metadata": {
        "id": "62qsT3fVMVL4"
      }
    },
    {
      "cell_type": "code",
      "source": [
        "# Second example sentence\n",
        "sentence_2 <- c(\"Money\", \"in\", \"the\", \"bank\")\n",
        "\n",
        "# Initialize matrices for Q, K, V for the second sentence\n",
        "Q_2 <- do.call(rbind, lapply(sentence_2, function(word) embeddings[[word]]))\n",
        "K_2 <- do.call(rbind, lapply(sentence_2, function(word) embeddings[[word]]))\n",
        "V_2 <- do.call(rbind, lapply(sentence_2, function(word) embeddings[[word]]))\n",
        "\n",
        "# Step 1: Similarity - Calculate dot products for Q and K (attention scores)\n",
        "attention_scores_2 <- Q_2 %*% t(K_2)\n",
        "\n",
        "# Step 2: Weights - Apply softmax to attention scores\n",
        "attention_weights_2 <- t(apply(attention_scores_2, 1, softmax))\n",
        "\n",
        "# Step 3: Contextualized vector - Multiply attention weights by V and sum to get output vectors for the second sentence\n",
        "attention_output_2 <- attention_weights_2 %*% V_2\n"
      ],
      "metadata": {
        "id": "loG0Q8Y6q56h"
      },
      "execution_count": 14,
      "outputs": []
    },
    {
      "cell_type": "code",
      "source": [
        "attention_weights_2"
      ],
      "metadata": {
        "colab": {
          "base_uri": "https://localhost:8080/",
          "height": 160
        },
        "id": "3v_HOOc_rX0Y",
        "outputId": "95baa690-ca96-4b80-e695-bb48d4e88ff2"
      },
      "execution_count": 15,
      "outputs": [
        {
          "output_type": "display_data",
          "data": {
            "text/html": [
              "<table class=\"dataframe\">\n",
              "<caption>A matrix: 4 × 4 of type dbl</caption>\n",
              "<tbody>\n",
              "\t<tr><td>0.2895367</td><td>0.2118296</td><td>0.2025086</td><td>0.2961251</td></tr>\n",
              "\t<tr><td>0.2617927</td><td>0.2392606</td><td>0.2345229</td><td>0.2644238</td></tr>\n",
              "\t<tr><td>0.2584097</td><td>0.2421473</td><td>0.2397379</td><td>0.2597050</td></tr>\n",
              "\t<tr><td>0.2911096</td><td>0.2103347</td><td>0.2000765</td><td>0.2984791</td></tr>\n",
              "</tbody>\n",
              "</table>\n"
            ],
            "text/markdown": "\nA matrix: 4 × 4 of type dbl\n\n| 0.2895367 | 0.2118296 | 0.2025086 | 0.2961251 |\n| 0.2617927 | 0.2392606 | 0.2345229 | 0.2644238 |\n| 0.2584097 | 0.2421473 | 0.2397379 | 0.2597050 |\n| 0.2911096 | 0.2103347 | 0.2000765 | 0.2984791 |\n\n",
            "text/latex": "A matrix: 4 × 4 of type dbl\n\\begin{tabular}{llll}\n\t 0.2895367 & 0.2118296 & 0.2025086 & 0.2961251\\\\\n\t 0.2617927 & 0.2392606 & 0.2345229 & 0.2644238\\\\\n\t 0.2584097 & 0.2421473 & 0.2397379 & 0.2597050\\\\\n\t 0.2911096 & 0.2103347 & 0.2000765 & 0.2984791\\\\\n\\end{tabular}\n",
            "text/plain": [
              "     [,1]      [,2]      [,3]      [,4]     \n",
              "[1,] 0.2895367 0.2118296 0.2025086 0.2961251\n",
              "[2,] 0.2617927 0.2392606 0.2345229 0.2644238\n",
              "[3,] 0.2584097 0.2421473 0.2397379 0.2597050\n",
              "[4,] 0.2911096 0.2103347 0.2000765 0.2984791"
            ]
          },
          "metadata": {}
        }
      ]
    },
    {
      "cell_type": "code",
      "source": [
        "attention_output_2"
      ],
      "metadata": {
        "colab": {
          "base_uri": "https://localhost:8080/",
          "height": 160
        },
        "id": "8yG20QCjrZax",
        "outputId": "8e010df7-5114-4ca3-80b2-3c452050700e"
      },
      "execution_count": 16,
      "outputs": [
        {
          "output_type": "display_data",
          "data": {
            "text/html": [
              "<table class=\"dataframe\">\n",
              "<caption>A matrix: 4 × 2 of type dbl</caption>\n",
              "<tbody>\n",
              "\t<tr><td>0.3342647</td><td>0.3409709</td></tr>\n",
              "\t<tr><td>0.3104866</td><td>0.3213230</td></tr>\n",
              "\t<tr><td>0.3072459</td><td>0.3185401</td></tr>\n",
              "\t<tr><td>0.3358355</td><td>0.3423135</td></tr>\n",
              "</tbody>\n",
              "</table>\n"
            ],
            "text/markdown": "\nA matrix: 4 × 2 of type dbl\n\n| 0.3342647 | 0.3409709 |\n| 0.3104866 | 0.3213230 |\n| 0.3072459 | 0.3185401 |\n| 0.3358355 | 0.3423135 |\n\n",
            "text/latex": "A matrix: 4 × 2 of type dbl\n\\begin{tabular}{ll}\n\t 0.3342647 & 0.3409709\\\\\n\t 0.3104866 & 0.3213230\\\\\n\t 0.3072459 & 0.3185401\\\\\n\t 0.3358355 & 0.3423135\\\\\n\\end{tabular}\n",
            "text/plain": [
              "     [,1]      [,2]     \n",
              "[1,] 0.3342647 0.3409709\n",
              "[2,] 0.3104866 0.3213230\n",
              "[3,] 0.3072459 0.3185401\n",
              "[4,] 0.3358355 0.3423135"
            ]
          },
          "metadata": {}
        }
      ]
    },
    {
      "cell_type": "code",
      "source": [
        "# Calculate the Euclidean distance between \"Money\" and \"bank\" in the original embeddings for the second sentence\n",
        "original_money <- embeddings[[\"Money\"]]\n",
        "original_bank <- embeddings[[\"bank\"]]\n",
        "distance_original_2 <- sqrt(sum((original_money - original_bank)^2))\n",
        "\n",
        "# Find the positions of \"Money\" and \"bank\" in the second sentence\n",
        "money_position <- which(sentence_2 == \"Money\")\n",
        "bank_position_2 <- which(sentence_2 == \"bank\")\n",
        "\n",
        "# Calculate the Euclidean distance between \"Money\" and \"bank\" in the output vectors for the second sentence\n",
        "output_money <- attention_output_2[money_position, ]\n",
        "output_bank_2 <- attention_output_2[bank_position_2, ]\n",
        "distance_output_2 <- sqrt(sum((output_money - output_bank_2)^2))\n",
        "\n",
        "# Print distances for the second sentence\n",
        "distance_original_2\n",
        "distance_output_2"
      ],
      "metadata": {
        "id": "UQ0LO3AgupxA",
        "colab": {
          "base_uri": "https://localhost:8080/",
          "height": 52
        },
        "outputId": "0f361973-4603-4ed7-d930-92f672048f25"
      },
      "execution_count": 17,
      "outputs": [
        {
          "output_type": "display_data",
          "data": {
            "text/html": [
              "0.05"
            ],
            "text/markdown": "0.05",
            "text/latex": "0.05",
            "text/plain": [
              "[1] 0.05"
            ]
          },
          "metadata": {}
        },
        {
          "output_type": "display_data",
          "data": {
            "text/html": [
              "0.00206638922221389"
            ],
            "text/markdown": "0.00206638922221389",
            "text/latex": "0.00206638922221389",
            "text/plain": [
              "[1] 0.002066389"
            ]
          },
          "metadata": {}
        }
      ]
    },
    {
      "cell_type": "code",
      "source": [
        "install.packages('reshape2')"
      ],
      "metadata": {
        "colab": {
          "base_uri": "https://localhost:8080/"
        },
        "id": "F_cj0h7BPZvY",
        "outputId": "1902ca35-d176-4a68-9ef0-caf318f5cc4b"
      },
      "execution_count": 27,
      "outputs": [
        {
          "output_type": "stream",
          "name": "stderr",
          "text": [
            "Installing package into ‘/usr/local/lib/R/site-library’\n",
            "(as ‘lib’ is unspecified)\n",
            "\n",
            "also installing the dependency ‘plyr’\n",
            "\n",
            "\n"
          ]
        }
      ]
    },
    {
      "cell_type": "code",
      "source": [
        "library(ggplot2)\n",
        "library(reshape2)\n",
        "\n",
        "# Create heatmaps for attention weights of both sentences\n",
        "# Sentence 1: \"the bank of the river\"\n",
        "attention_weights_1_df <- melt(attention_weights_1)\n",
        "colnames(attention_weights_1_df) <- c(\"Word1\", \"Word2\", \"Weight\")\n",
        "attention_weights_1_df$Word1 <- factor(sentence_1[attention_weights_1_df$Word1], levels = unique(sentence_1))\n",
        "attention_weights_1_df$Word2 <- factor(sentence_1[attention_weights_1_df$Word2], levels = unique(sentence_1))\n",
        "\n",
        "ggplot(attention_weights_1_df, aes(x = Word2, y = Word1, fill = Weight)) +\n",
        "  geom_tile() +\n",
        "  geom_text(aes(label = round(Weight, 2))) +\n",
        "  labs(\n",
        "    title = 'Attention Weights for \"the bank of the river\"',\n",
        "    x = NULL,\n",
        "    y = NULL\n",
        "  ) +\n",
        "  scale_fill_gradient(low = \"white\", high = \"blue\") +\n",
        "  theme_minimal() +\n",
        "  theme(axis.text.x = element_text(angle = 45, hjust = 1))\n",
        "\n",
        "# Sentence 2: \"Money in the bank\"\n",
        "attention_weights_2_df <- melt(attention_weights_2)\n",
        "colnames(attention_weights_2_df) <- c(\"Word1\", \"Word2\", \"Weight\")\n",
        "attention_weights_2_df$Word1 <- factor(sentence_2[attention_weights_2_df$Word1], levels = unique(sentence_2))\n",
        "attention_weights_2_df$Word2 <- factor(sentence_2[attention_weights_2_df$Word2], levels = unique(sentence_2))\n",
        "\n",
        "ggplot(attention_weights_2_df, aes(x = Word2, y = Word1, fill = Weight)) +\n",
        "  geom_tile() +\n",
        "  geom_text(aes(label = round(Weight, 2))) +\n",
        "  labs(\n",
        "    title = 'Attention Weights for \"Money in the bank\"',\n",
        "    x = NULL,\n",
        "    y = NULL\n",
        "  ) +\n",
        "  scale_fill_gradient(low = \"white\", high = \"blue\") +\n",
        "  theme_minimal() +\n",
        "  theme(axis.text.x = element_text(angle = 45, hjust = 1))"
      ],
      "metadata": {
        "colab": {
          "base_uri": "https://localhost:8080/",
          "height": 857
        },
        "id": "qYkh-w69lDer",
        "outputId": "df48b53b-cb38-4df7-b3b9-39ee5004fe40"
      },
      "execution_count": 29,
      "outputs": [
        {
          "output_type": "display_data",
          "data": {
            "text/plain": [
              "plot without title"
            ],
            "image/png": "[encoded data removed]"
          },
          "metadata": {
            "image/png": {
              "width": 420,
              "height": 420
            }
          }
        },
        {
          "output_type": "display_data",
          "data": {
            "text/plain": [
              "plot without title"
            ],
            "image/png": "[encoded data removed]"
          },
          "metadata": {
            "image/png": {
              "width": 420,
              "height": 420
            }
          }
        }
      ]
    },
    {
      "cell_type": "markdown",
      "source": [
        "# Transformer Model Architecture"
      ],
      "metadata": {
        "id": "jD8fFOmbsogt"
      }
    },
    {
      "cell_type": "markdown",
      "source": [
        "![](https://lilianweng.github.io/posts/2018-06-24-attention/transformer.png)"
      ],
      "metadata": {
        "id": "_0Tw7m0FvKPv"
      }
    },
    {
      "cell_type": "markdown",
      "source": [
        "| Model           | Examples                                 | Tasks                                               |\n",
        "|-----------------|------------------------------------------|-----------------------------------------------------|\n",
        "| Encoder         | ALBERT, BERT, DistilBERT, ELECTRA, RoBERTa | Sentence classification, named entity recognition, extractive question answering |\n",
        "| Decoder         | CTRL, GPT, GPT-2, Transformer XL         | Text generation                                     |\n",
        "| Encoder-decoder | BART, T5, Marian, mBART                  | Summarization, translation, generative question answering |\n"
      ],
      "metadata": {
        "id": "IxcZuQKAc3OY"
      }
    },
    {
      "cell_type": "code",
      "source": [
        "# Residual connection\n",
        "residual_2 <- Q_2 + attention_output_2\n",
        "residual_2"
      ],
      "metadata": {
        "id": "GsOKahVlOpzP",
        "colab": {
          "base_uri": "https://localhost:8080/",
          "height": 160
        },
        "outputId": "9ea4dfaa-618e-4e20-cfa1-1a357a37202c"
      },
      "execution_count": 36,
      "outputs": [
        {
          "output_type": "display_data",
          "data": {
            "text/html": [
              "<table class=\"dataframe\">\n",
              "<caption>A matrix: 4 × 2 of type dbl</caption>\n",
              "<tbody>\n",
              "\t<tr><td>0.8342647</td><td>0.7909709</td></tr>\n",
              "\t<tr><td>0.4104866</td><td>0.5213230</td></tr>\n",
              "\t<tr><td>0.4072459</td><td>0.4185401</td></tr>\n",
              "\t<tr><td>0.8358355</td><td>0.8423135</td></tr>\n",
              "</tbody>\n",
              "</table>\n"
            ],
            "text/markdown": "\nA matrix: 4 × 2 of type dbl\n\n| 0.8342647 | 0.7909709 |\n| 0.4104866 | 0.5213230 |\n| 0.4072459 | 0.4185401 |\n| 0.8358355 | 0.8423135 |\n\n",
            "text/latex": "A matrix: 4 × 2 of type dbl\n\\begin{tabular}{ll}\n\t 0.8342647 & 0.7909709\\\\\n\t 0.4104866 & 0.5213230\\\\\n\t 0.4072459 & 0.4185401\\\\\n\t 0.8358355 & 0.8423135\\\\\n\\end{tabular}\n",
            "text/plain": [
              "     [,1]      [,2]     \n",
              "[1,] 0.8342647 0.7909709\n",
              "[2,] 0.4104866 0.5213230\n",
              "[3,] 0.4072459 0.4185401\n",
              "[4,] 0.8358355 0.8423135"
            ]
          },
          "metadata": {}
        }
      ]
    },
    {
      "cell_type": "code",
      "source": [
        "# # Layer normalization\n",
        "# norm_layer <- nn_layer_norm(normalized_shape = c(2))\n",
        "# norm_output_2 <- norm_layer(torch_tensor(residual_2, dtype = torch_float()))\n",
        "# norm_output_2"
      ],
      "metadata": {
        "id": "3_eCgGnhu2Nn"
      },
      "execution_count": 37,
      "outputs": []
    },
    {
      "cell_type": "markdown",
      "source": [
        "# What is text embedding?"
      ],
      "metadata": {
        "id": "jingl7LJYSOy"
      }
    },
    {
      "cell_type": "markdown",
      "source": [
        "Text embedding is a representation of text in the form of vectors. The main goal of embedding is to capture the semantic meaning of the text in a way that reflects the context and usage of words or phrases. In machine learning, embeddings are used to convert text into a continuous vector space where similar words have similar representations, making it easier for models to understand and process language."
      ],
      "metadata": {
        "id": "9PrWTi2qfCgl"
      }
    },
    {
      "cell_type": "markdown",
      "source": [
        "![](https://www.researchgate.net/publication/340825443/figure/fig6/AS:882927785238529@1587517796128/Word-embeddings-map-words-in-a-corpus-of-text-to-vector-space-Linear-combinations-of.png)"
      ],
      "metadata": {
        "id": "htIesh5Pe-6k"
      }
    },
    {
      "cell_type": "markdown",
      "source": [
        "Let's try checking the embeddings of words.\n",
        "\n",
        "\n",
        "[Embeddings Projector](https://projector.tensorflow.org/)"
      ],
      "metadata": {
        "id": "9AyWT8vFY4jL"
      }
    },
    {
      "cell_type": "markdown",
      "source": [
        "In general all types of text embeddings approaches can be grouped into two categorizes namely word enbeddings and sentence embeddings."
      ],
      "metadata": {
        "id": "tv70Xlx4jXMC"
      }
    },
    {
      "cell_type": "markdown",
      "source": [
        "![](https://raw.githubusercontent.com/aaubs/ds-master/main/data/Images/word_embeddings.png)"
      ],
      "metadata": {
        "id": "tpjOc1vSjFsT"
      }
    },
    {
      "cell_type": "markdown",
      "source": [
        "In the first step, we will explore BERT models. Afterward, we will investigate the SBERT approach to generating sentence embeddings.\n",
        "\n"
      ],
      "metadata": {
        "id": "4RfTrE1Rlunr"
      }
    },
    {
      "cell_type": "markdown",
      "source": [
        "![](https://raw.githubusercontent.com/aaubs/ds-master/main/data/Images/sentence_embeddings.png)"
      ],
      "metadata": {
        "id": "EY4rGvddjE13"
      }
    },
    {
      "cell_type": "markdown",
      "source": [
        "# How can trian a transformer model to compute embeddings?"
      ],
      "metadata": {
        "id": "tvOwtvDhlIya"
      }
    },
    {
      "cell_type": "markdown",
      "source": [
        "There are two different types of training for Transformer models: **pre-training** and **fine-tuning**.\n"
      ],
      "metadata": {
        "id": "hsM_PbU2nxvw"
      }
    },
    {
      "cell_type": "markdown",
      "source": [
        "![](https://docs.graphcore.ai/projects/bert-training/en/latest/_images/training-tuning-inference.png)"
      ],
      "metadata": {
        "id": "xhfQ2kI-k5tL"
      }
    },
    {
      "cell_type": "markdown",
      "source": [
        "For Transformer models that use a **Masked Language Model (MLM)** approach, such as BERT, the training process is specialized to handle the unique challenges of understanding language in a bidirectional context. Here's an overview of the training approaches for MLM-based Transformer models:\n",
        "\n",
        "## Pre-training\n",
        "\n",
        "MLM-based models are typically trained in two stages, with pre-training being the first:\n",
        "\n",
        "> - **Masked Language Modeling**: In this core pre-training task, a certain percentage of the input tokens are replaced with a [MASK] token, and the model must predict the original token. This trains the model to understand context and to use surrounding words to fill in blanks. For example:\n",
        "      Original Sentence: \"The quick brown fox jumps over the lazy dog.\"\n",
        "      MLM Input: \"The quick brown [MASK] jumps over the lazy dog.\"\n",
        "      Model's Task: Predict the word \"fox\" to replace [MASK].\n",
        "> - **Next Sentence Prediction (NSP)**: In the case of BERT, along with the MLM task, the model is also trained on a binary classification task to predict whether two sentences follow each other in the original text. This helps the model learn relationships between sentences. For example:\n",
        "      Sentence A: \"The quick brown fox jumps over the lazy dog.\"\n",
        "      Sentence B: \"It then swiftly ran up the hill.\"\n",
        "      Sentence B: \"Oranges are rich in vitamin C.\"\n",
        "\n",
        "During pre-training, the model is trained on a large, diverse corpus of text to develop a broad understanding of language. The choice of corpus is crucial — it needs to be large and varied enough to ensure that the model can learn a wide range of linguistic patterns and structures.\n",
        "\n",
        "## Fine-tuning\n",
        "\n",
        "Once pre-trained, the model can be fine-tuned on specific downstream tasks:\n",
        "\n",
        "> - **Supervised Fine-tuning**: Here, the pre-trained model is fine-tuned on a smaller, labeled dataset for tasks such as sentiment analysis, named entity recognition, or question answering. The fine-tuning adapts the model to the specificities of the task at hand.\n",
        "> - **Task-specific Inputs**: For fine-tuning, the input format is often adapted to the specific task. For instance, for question answering, the input may be structured as \"[QUESTION] [SEP] [CONTEXT]\" where [SEP] is a special token that separates the question from the context passage.\n",
        "> - **Output Layer**: During fine-tuning, a task-specific output layer is often added on top of the pre-trained model. For example, for classification tasks, a softmax layer is added to output probability distributions over classes."
      ],
      "metadata": {
        "id": "jzymq8GUg9_M"
      }
    },
    {
      "cell_type": "markdown",
      "source": [
        "### Let's check the architecture of BERT!"
      ],
      "metadata": {
        "id": "MnQZAieX1GrZ"
      }
    },
    {
      "cell_type": "markdown",
      "source": [
        "![](https://vitalflux.com/wp-content/uploads/2023/08/BERT-base-BERT-Large-neural-network-architectures.png)"
      ],
      "metadata": {
        "id": "VL4APPMkg677"
      }
    },
    {
      "cell_type": "markdown",
      "source": [
        "### Let's see how BERT has been trianed!"
      ],
      "metadata": {
        "id": "CHomgSuh0nLP"
      }
    },
    {
      "cell_type": "markdown",
      "source": [
        "![](https://360digit.b-cdn.net/assets/admin/ckfinder/userfiles/images/blog/11-05-2021/11-05-2021(a)/image4.jpg)"
      ],
      "metadata": {
        "id": "Fjir-l-BhVT7"
      }
    },
    {
      "cell_type": "code",
      "source": [
        "!pip install transformers --q"
      ],
      "metadata": {
        "colab": {
          "base_uri": "https://localhost:8080/"
        },
        "id": "st8xlioe2nAH",
        "outputId": "431accf6-dd96-41f1-baf7-e82a754b21fb"
      },
      "execution_count": null,
      "outputs": [
        {
          "output_type": "stream",
          "name": "stdout",
          "text": [
            "\u001b[2K     \u001b[90m━━━━━━━━━━━━━━━━━━━━━━━━━━━━━━━━━━━━━━━━\u001b[0m \u001b[32m7.9/7.9 MB\u001b[0m \u001b[31m17.2 MB/s\u001b[0m eta \u001b[36m0:00:00\u001b[0m\n",
            "\u001b[2K     \u001b[90m━━━━━━━━━━━━━━━━━━━━━━━━━━━━━━━━━━━━━━━━\u001b[0m \u001b[32m302.0/302.0 kB\u001b[0m \u001b[31m25.6 MB/s\u001b[0m eta \u001b[36m0:00:00\u001b[0m\n",
            "\u001b[2K     \u001b[90m━━━━━━━━━━━━━━━━━━━━━━━━━━━━━━━━━━━━━━━━\u001b[0m \u001b[32m3.8/3.8 MB\u001b[0m \u001b[31m23.9 MB/s\u001b[0m eta \u001b[36m0:00:00\u001b[0m\n",
            "\u001b[2K     \u001b[90m━━━━━━━━━━━━━━━━━━━━━━━━━━━━━━━━━━━━━━━━\u001b[0m \u001b[32m1.3/1.3 MB\u001b[0m \u001b[31m27.5 MB/s\u001b[0m eta \u001b[36m0:00:00\u001b[0m\n",
            "\u001b[2K     \u001b[90m━━━━━━━━━━━━━━━━━━━━━━━━━━━━━━━━━━━━━━━━\u001b[0m \u001b[32m295.0/295.0 kB\u001b[0m \u001b[31m26.6 MB/s\u001b[0m eta \u001b[36m0:00:00\u001b[0m\n",
            "\u001b[?25h"
          ]
        }
      ]
    },
    {
      "cell_type": "code",
      "source": [
        "from transformers import BertTokenizer, BertModel\n",
        "\n",
        "# Initialize the tokenizer and model\n",
        "tokenizer = BertTokenizer.from_pretrained('bert-base-uncased')\n",
        "model = BertModel.from_pretrained('bert-base-uncased')\n",
        "\n",
        "# Tokenize the sentence\n",
        "sentence = \"The bank of the river.\"\n",
        "inputs = tokenizer(sentence, return_tensors=\"pt\", add_special_tokens=True)\n",
        "\n",
        "# Get the token IDs (input to the model)\n",
        "input_ids = inputs['input_ids']\n",
        "\n",
        "# Forward pass through BERT to get the embeddings\n",
        "with torch.no_grad():\n",
        "    outputs = model(input_ids)\n",
        "\n",
        "# The last_hidden_state is the embeddings for the last layer\n",
        "# It has shape [batch_size, sequence_length, hidden_size], where hidden_size is 768 for BERT base\n",
        "embeddings = outputs.last_hidden_state.squeeze(0)  # Remove the batch dimension\n",
        "\n",
        "# Now, `embeddings` contains the embeddings for each token in the sentence\n"
      ],
      "metadata": {
        "id": "vM1xgi-8dy4O"
      },
      "execution_count": null,
      "outputs": []
    },
    {
      "cell_type": "code",
      "source": [
        "embeddings.shape"
      ],
      "metadata": {
        "colab": {
          "base_uri": "https://localhost:8080/"
        },
        "id": "UmbmBK1rNV1r",
        "outputId": "e7d7f34c-b0fa-4468-e566-2493f25585a0"
      },
      "execution_count": null,
      "outputs": [
        {
          "output_type": "execute_result",
          "data": {
            "text/plain": [
              "torch.Size([8, 768])"
            ]
          },
          "metadata": {},
          "execution_count": 40
        }
      ]
    },
    {
      "cell_type": "markdown",
      "source": [
        "Remember that BERT adds special tokens like [CLS] at the start and [SEP] at the end of the sentence. If you're interested in word-level embeddings, you would ignore these special tokens."
      ],
      "metadata": {
        "id": "5cUzQQIpfHjV"
      }
    },
    {
      "cell_type": "code",
      "source": [
        "import numpy as np\n",
        "import matplotlib.pyplot as plt\n",
        "from sklearn.decomposition import PCA\n",
        "\n",
        "# Create a PCA object to reduce to 2 dimensions\n",
        "pca = PCA(n_components=2)\n",
        "\n",
        "# Fit and transform the embeddings using PCA\n",
        "reduced_embeddings = pca.fit_transform(embeddings[2:6])\n",
        "\n",
        "# Plot the reduced embeddings\n",
        "plt.figure(figsize=(10, 8))\n",
        "plt.scatter(reduced_embeddings[:, 0], reduced_embeddings[:, 1])\n",
        "\n",
        "# Annotate the points with the words\n",
        "words = [\"bank\", \"of\", \"the\", \"river\"]\n",
        "\n",
        "for i, word in enumerate(words):\n",
        "    plt.annotate(word, (reduced_embeddings[i, 0], reduced_embeddings[i, 1]))\n",
        "\n",
        "plt.title('Word Embeddings reduced to 2D space')\n",
        "plt.xlabel('Component 1')\n",
        "plt.ylabel('Component 2')\n",
        "plt.grid(True)\n",
        "plt.show()\n"
      ],
      "metadata": {
        "colab": {
          "base_uri": "https://localhost:8080/",
          "height": 718
        },
        "id": "DwH_iPd03mLc",
        "outputId": "61190a49-528e-4fd4-bdb6-55a48c20d2ff"
      },
      "execution_count": null,
      "outputs": [
        {
          "output_type": "display_data",
          "data": {
            "text/plain": [
              "<Figure size 1000x800 with 1 Axes>"
            ],
            "image/png": "[encoded data removed]"
          },
          "metadata": {}
        }
      ]
    },
    {
      "cell_type": "markdown",
      "source": [
        "![](https://media.arxiv-vanity.com/render-output/7086622/bert_pretraining.png)"
      ],
      "metadata": {
        "id": "TC3017gpHq-8"
      }
    },
    {
      "cell_type": "code",
      "source": [
        "print(model)"
      ],
      "metadata": {
        "colab": {
          "base_uri": "https://localhost:8080/"
        },
        "id": "xfMAZ4bvAEZV",
        "outputId": "578a7c61-1186-4d8c-981f-e6d7681d1202"
      },
      "execution_count": null,
      "outputs": [
        {
          "output_type": "stream",
          "name": "stdout",
          "text": [
            "BertModel(\n",
            "  (embeddings): BertEmbeddings(\n",
            "    (word_embeddings): Embedding(30522, 768, padding_idx=0)\n",
            "    (position_embeddings): Embedding(512, 768)\n",
            "    (token_type_embeddings): Embedding(2, 768)\n",
            "    (LayerNorm): LayerNorm((768,), eps=1e-12, elementwise_affine=True)\n",
            "    (dropout): Dropout(p=0.1, inplace=False)\n",
            "  )\n",
            "  (encoder): BertEncoder(\n",
            "    (layer): ModuleList(\n",
            "      (0-11): 12 x BertLayer(\n",
            "        (attention): BertAttention(\n",
            "          (self): BertSelfAttention(\n",
            "            (query): Linear(in_features=768, out_features=768, bias=True)\n",
            "            (key): Linear(in_features=768, out_features=768, bias=True)\n",
            "            (value): Linear(in_features=768, out_features=768, bias=True)\n",
            "            (dropout): Dropout(p=0.1, inplace=False)\n",
            "          )\n",
            "          (output): BertSelfOutput(\n",
            "            (dense): Linear(in_features=768, out_features=768, bias=True)\n",
            "            (LayerNorm): LayerNorm((768,), eps=1e-12, elementwise_affine=True)\n",
            "            (dropout): Dropout(p=0.1, inplace=False)\n",
            "          )\n",
            "        )\n",
            "        (intermediate): BertIntermediate(\n",
            "          (dense): Linear(in_features=768, out_features=3072, bias=True)\n",
            "          (intermediate_act_fn): GELUActivation()\n",
            "        )\n",
            "        (output): BertOutput(\n",
            "          (dense): Linear(in_features=3072, out_features=768, bias=True)\n",
            "          (LayerNorm): LayerNorm((768,), eps=1e-12, elementwise_affine=True)\n",
            "          (dropout): Dropout(p=0.1, inplace=False)\n",
            "        )\n",
            "      )\n",
            "    )\n",
            "  )\n",
            "  (pooler): BertPooler(\n",
            "    (dense): Linear(in_features=768, out_features=768, bias=True)\n",
            "    (activation): Tanh()\n",
            "  )\n",
            ")\n"
          ]
        }
      ]
    },
    {
      "cell_type": "markdown",
      "source": [
        "> **nn.Embedding** in PyTorch is like a large lookup table that maps each unique word or token in your vocabulary to a high-dimensional vector. Imagine it as a dictionary, but instead of giving you the definition of a word, it gives you a list of numbers that represent that word in a space where similar words are closer together."
      ],
      "metadata": {
        "id": "CugI2cnHuwYS"
      }
    },
    {
      "cell_type": "code",
      "source": [
        "import torch\n",
        "import torch.nn as nn\n",
        "\n",
        "# Step 1: Create a vocabulary. Normally you'd want a large corpus to create this.\n",
        "vocab = {'<pad>': 0, 'The': 1, 'bank': 2, 'of': 3, 'river': 4}\n",
        "vocab_size = len(vocab)  # This will be the number of rows in the embedding matrix.\n",
        "embedding_dim = 2  # You can choose the size of the embeddings.\n",
        "\n",
        "# Step 2: Convert the sentence \"The bank of river\" to indices.\n",
        "sentence = \"The bank of river\"\n",
        "indices = [vocab[word] for word in sentence.split()]\n",
        "\n",
        "# Step 3: Create the embedding layer.\n",
        "embedding_layer = nn.Embedding(num_embeddings=vocab_size, embedding_dim=embedding_dim)\n",
        "\n",
        "# Step 4: Use the embedding layer to get embeddings for the indices.\n",
        "# Convert indices list to a tensor.\n",
        "indices_tensor = torch.LongTensor(indices)\n",
        "\n",
        "# Get embeddings for indices.\n",
        "embeddings = embedding_layer(indices_tensor)\n",
        "\n",
        "print(embeddings)  # This will print out the embeddings for each word in the sentence."
      ],
      "metadata": {
        "colab": {
          "base_uri": "https://localhost:8080/"
        },
        "id": "_YT9ZyxRu4Ic",
        "outputId": "a2b8c4ec-9b92-4aa2-90f2-1e8261baeeb8"
      },
      "execution_count": null,
      "outputs": [
        {
          "output_type": "stream",
          "name": "stdout",
          "text": [
            "tensor([[ 6.1823e-01,  3.7927e-02],\n",
            "        [-2.4960e-03, -3.9648e-01],\n",
            "        [-1.2649e+00, -2.9598e+00],\n",
            "        [-3.8356e-01,  1.8303e+00]], grad_fn=<EmbeddingBackward0>)\n"
          ]
        }
      ]
    },
    {
      "cell_type": "code",
      "source": [
        "embeddings.shape"
      ],
      "metadata": {
        "colab": {
          "base_uri": "https://localhost:8080/"
        },
        "id": "2qNp_EZ622tr",
        "outputId": "a4c5b7c7-4aa3-454d-96a7-87e2be756c1e"
      },
      "execution_count": null,
      "outputs": [
        {
          "output_type": "execute_result",
          "data": {
            "text/plain": [
              "torch.Size([4, 2])"
            ]
          },
          "metadata": {},
          "execution_count": 38
        }
      ]
    },
    {
      "cell_type": "markdown",
      "source": [
        "# Exercise 2\n",
        "\n",
        "Calculate embeddings for \"Money in the bank\" using BERT, and show the embeddings for each word?\n",
        "\n"
      ],
      "metadata": {
        "id": "eZJcdE2MxolJ"
      }
    },
    {
      "cell_type": "code",
      "source": [],
      "metadata": {
        "id": "MVaL7Y5GKOBg"
      },
      "execution_count": null,
      "outputs": []
    },
    {
      "cell_type": "markdown",
      "source": [
        "To begin with, it's essential to grasp the distinctions between Bi-Encoders and Cross-Encoders.\n",
        "\n",
        "- Bi-Encoders generate a sentence embedding for a specific sentence. In this process, sentences A and B are independently fed into a BERT model, resulting in sentence embeddings u and v, respectively. These embeddings can then be evaluated against each other using cosine similarity.\n",
        "\n",
        "- Cross-Encoders take both sentences at the same time and input them into the Transformer model. This model then yields a score ranging from 0 to 1 that reflects the degree of similarity between the two input sentences.\n"
      ],
      "metadata": {
        "id": "cAaRjhFkQk3r"
      }
    },
    {
      "cell_type": "markdown",
      "source": [
        "![](https://raw.githubusercontent.com/UKPLab/sentence-transformers/master/docs/img/Bi_vs_Cross-Encoder.png)"
      ],
      "metadata": {
        "id": "5OAIVEBlQg6H"
      }
    },
    {
      "cell_type": "markdown",
      "source": [
        "Unlike Bi-Encoders, Cross-Encoders do not create sentence embeddings. Additionally, it's not possible to input sentences into a Cross-Encoder one at a time."
      ],
      "metadata": {
        "id": "xwgLmTlmSovz"
      }
    },
    {
      "cell_type": "code",
      "source": [
        "!pip install -U sentence-transformers --q"
      ],
      "metadata": {
        "colab": {
          "base_uri": "https://localhost:8080/"
        },
        "id": "8Z3fuTkpS7nq",
        "outputId": "b0b51b38-adfa-4e5b-cd72-cb289ed55192"
      },
      "execution_count": null,
      "outputs": [
        {
          "output_type": "stream",
          "name": "stdout",
          "text": [
            "\u001b[?25l     \u001b[90m━━━━━━━━━━━━━━━━━━━━━━━━━━━━━━━━━━━━━━━━\u001b[0m \u001b[32m0.0/86.0 kB\u001b[0m \u001b[31m?\u001b[0m eta \u001b[36m-:--:--\u001b[0m\r\u001b[2K     \u001b[91m━━━━━━━━━━━━━━━━━━━━━━━━━━━━━━━━━━━━━━\u001b[0m\u001b[90m╺\u001b[0m\u001b[90m━\u001b[0m \u001b[32m81.9/86.0 kB\u001b[0m \u001b[31m2.2 MB/s\u001b[0m eta \u001b[36m0:00:01\u001b[0m\r\u001b[2K     \u001b[90m━━━━━━━━━━━━━━━━━━━━━━━━━━━━━━━━━━━━━━━━\u001b[0m \u001b[32m86.0/86.0 kB\u001b[0m \u001b[31m1.7 MB/s\u001b[0m eta \u001b[36m0:00:00\u001b[0m\n",
            "\u001b[?25h  Preparing metadata (setup.py) ... \u001b[?25l\u001b[?25hdone\n",
            "\u001b[2K     \u001b[90m━━━━━━━━━━━━━━━━━━━━━━━━━━━━━━━━━━━━━━━━\u001b[0m \u001b[32m1.3/1.3 MB\u001b[0m \u001b[31m8.1 MB/s\u001b[0m eta \u001b[36m0:00:00\u001b[0m\n",
            "\u001b[?25h  Building wheel for sentence-transformers (setup.py) ... \u001b[?25l\u001b[?25hdone\n"
          ]
        }
      ]
    },
    {
      "cell_type": "code",
      "source": [
        "from sentence_transformers import SentenceTransformer\n",
        "model = SentenceTransformer('all-MiniLM-L6-v2')\n",
        "\n",
        "#Our sentences we like to encode\n",
        "sentences = ['This framework generates embeddings for each input sentence',\n",
        "    'Sentences are passed as a list of string.',\n",
        "    'The quick brown fox jumps over the lazy dog.']\n",
        "\n",
        "#Sentences are encoded by calling model.encode()\n",
        "embeddings = model.encode(sentences, convert_to_tensor=True)\n",
        "\n",
        "#Print the embeddings\n",
        "for sentence, embedding in zip(sentences[:1], embeddings[:1]):\n",
        "    print(\"Sentence:\", sentence)\n",
        "    print(\"Embedding shape:\", embedding.shape)\n",
        "    print(\"\")"
      ],
      "metadata": {
        "id": "C0RTWo1_nz4T",
        "colab": {
          "base_uri": "https://localhost:8080/"
        },
        "outputId": "3719ee51-98cd-4141-9b0b-bd1e5c1b7495"
      },
      "execution_count": null,
      "outputs": [
        {
          "output_type": "stream",
          "name": "stdout",
          "text": [
            "Sentence: This framework generates embeddings for each input sentence\n",
            "Embedding shape: torch.Size([384])\n",
            "\n"
          ]
        }
      ]
    },
    {
      "cell_type": "markdown",
      "source": [
        "# Exercise 3\n",
        "\n",
        "Calculate embeddings for \"The bank of the river\" and \"Money in the bank\" using SBERT, and show the embeddings for each sentence?"
      ],
      "metadata": {
        "id": "i8oZ7LZ_PJ2T"
      }
    },
    {
      "cell_type": "code",
      "source": [
        "sentence_1 = 'The bank of the river'\n",
        "sentence_2 = 'Money in the bank'"
      ],
      "metadata": {
        "id": "Qvt9iOtcQKcI"
      },
      "execution_count": null,
      "outputs": []
    },
    {
      "cell_type": "code",
      "source": [],
      "metadata": {
        "id": "J5RzakjjTpAl"
      },
      "execution_count": null,
      "outputs": []
    },
    {
      "cell_type": "markdown",
      "metadata": {
        "id": "LOJ8kAFIdQHl"
      },
      "source": [
        "# Tokenizers (PyTorch)"
      ]
    },
    {
      "cell_type": "code",
      "execution_count": null,
      "metadata": {
        "id": "bGcivdY2dQHs",
        "outputId": "8403cb22-1b69-48b8-9b92-d05e4ecc963a",
        "colab": {
          "base_uri": "https://localhost:8080/"
        }
      },
      "outputs": [
        {
          "output_type": "stream",
          "name": "stdout",
          "text": [
            "['The', 'bank', 'of', 'the', 'river']\n"
          ]
        }
      ],
      "source": [
        "tokenized_text = \"The bank of the river\".split()\n",
        "print(tokenized_text)"
      ]
    },
    {
      "cell_type": "code",
      "execution_count": null,
      "metadata": {
        "id": "tnpUrFAOdQHu",
        "outputId": "7bc29323-25d9-4d2e-d940-025f56aa853a",
        "colab": {
          "base_uri": "https://localhost:8080/"
        }
      },
      "outputs": [
        {
          "output_type": "execute_result",
          "data": {
            "text/plain": [
              "{'input_ids': [101, 1996, 2924, 1997, 1996, 2314, 102], 'token_type_ids': [0, 0, 0, 0, 0, 0, 0], 'attention_mask': [1, 1, 1, 1, 1, 1, 1]}"
            ]
          },
          "metadata": {},
          "execution_count": 22
        }
      ],
      "source": [
        "tokenizer(\"The bank of the river\")"
      ]
    },
    {
      "cell_type": "code",
      "execution_count": null,
      "metadata": {
        "id": "LWW8O0fsdQHv",
        "outputId": "932b3d85-5765-40eb-d450-398eacd029f5",
        "colab": {
          "base_uri": "https://localhost:8080/"
        }
      },
      "outputs": [
        {
          "output_type": "execute_result",
          "data": {
            "text/plain": [
              "('directory_on_my_computer/tokenizer_config.json',\n",
              " 'directory_on_my_computer/special_tokens_map.json',\n",
              " 'directory_on_my_computer/vocab.txt',\n",
              " 'directory_on_my_computer/added_tokens.json')"
            ]
          },
          "metadata": {},
          "execution_count": 23
        }
      ],
      "source": [
        "tokenizer.save_pretrained(\"directory_on_my_computer\")"
      ]
    },
    {
      "cell_type": "code",
      "execution_count": null,
      "metadata": {
        "id": "fWzUobzLdQHv",
        "outputId": "c72e9b04-db5d-461f-946a-45f0ab243b84",
        "colab": {
          "base_uri": "https://localhost:8080/"
        }
      },
      "outputs": [
        {
          "output_type": "stream",
          "name": "stdout",
          "text": [
            "['the', 'bank', 'of', 'the', 'river', '.']\n"
          ]
        }
      ],
      "source": [
        "sentence_1 = \"The bank of the river.\"\n",
        "tokens = tokenizer.tokenize(sentence_1)\n",
        "\n",
        "print(tokens)"
      ]
    },
    {
      "cell_type": "code",
      "execution_count": null,
      "metadata": {
        "id": "YNE8XDXsdQHw",
        "outputId": "d743c930-b771-46d6-b431-a909d186bc86",
        "colab": {
          "base_uri": "https://localhost:8080/"
        }
      },
      "outputs": [
        {
          "output_type": "stream",
          "name": "stdout",
          "text": [
            "[1996, 2924, 1997, 1996, 2314, 1012]\n"
          ]
        }
      ],
      "source": [
        "ids = tokenizer.convert_tokens_to_ids(tokens)\n",
        "\n",
        "print(ids)"
      ]
    },
    {
      "cell_type": "code",
      "execution_count": null,
      "metadata": {
        "id": "emBKof3PdQHw",
        "outputId": "9725fbe1-f8e7-47b4-83ef-c811a1eb0d66",
        "colab": {
          "base_uri": "https://localhost:8080/"
        }
      },
      "outputs": [
        {
          "output_type": "stream",
          "name": "stdout",
          "text": [
            "the bank of the river.\n"
          ]
        }
      ],
      "source": [
        "decoded_string = tokenizer.decode([1996, 2924, 1997, 1996, 2314, 1012])\n",
        "print(decoded_string)"
      ]
    },
    {
      "cell_type": "code",
      "source": [
        "len(tokenizer.vocab)"
      ],
      "metadata": {
        "id": "j--YhVt9d4kI",
        "outputId": "990427a7-5e37-443c-c068-442064e2f7c4",
        "colab": {
          "base_uri": "https://localhost:8080/"
        }
      },
      "execution_count": null,
      "outputs": [
        {
          "output_type": "execute_result",
          "data": {
            "text/plain": [
              "30522"
            ]
          },
          "metadata": {},
          "execution_count": 27
        }
      ]
    },
    {
      "cell_type": "markdown",
      "source": [
        "# Architectures vs. Checkpoints\n",
        "\n",
        "As we dive into Transformer models in this course, you’ll see mentions of architectures and checkpoints as well as models. These terms all have slightly different meanings:\n",
        "\n",
        "- Architecture: This is the skeleton of the model — the definition of each layer and each operation that happens within the model.\n",
        "- Checkpoints: These are the weights that will be loaded in a given architecture.\n",
        "- Model: This is an umbrella term that isn’t as precise as “architecture” or “checkpoint”: it can mean both. This course will specify architecture or checkpoint when it matters to reduce ambiguity.\n",
        "\n",
        "For example, BERT is an architecture while bert-base-cased, a set of weights trained by the Google team for the first release of BERT, is a checkpoint. However, one can say “the BERT model” and “the bert-base-cased model.”"
      ],
      "metadata": {
        "id": "ORfzHGkZcQj5"
      }
    },
    {
      "cell_type": "markdown",
      "source": [
        "![](https://raw.githubusercontent.com/aaubs/ds-master/main/data/Images/transformermodel_architecture.png)"
      ],
      "metadata": {
        "id": "mYmkol6pE2U4"
      }
    }
  ]
}